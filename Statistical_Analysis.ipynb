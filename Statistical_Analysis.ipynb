{
  "nbformat": 4,
  "nbformat_minor": 0,
  "metadata": {
    "colab": {
      "provenance": [],
      "collapsed_sections": [
        "jjLwI54h6hDU"
      ]
    },
    "kernelspec": {
      "name": "python3",
      "display_name": "Python 3"
    },
    "language_info": {
      "name": "python"
    }
  },
  "cells": [
    {
      "cell_type": "markdown",
      "source": [
        "#**Statistical Analysis**\n",
        "---\n"
      ],
      "metadata": {
        "id": "VO8v8yLO5BSi"
      }
    },
    {
      "cell_type": "markdown",
      "source": [
        "Statistical analysis is the process of processing, analyzing, and interpreting data using mathematical and probabilistic principles to draw valid and measurable conclusions — not merely assumptions or visual observations.\n",
        "While the EDA (Exploratory Data Analysis) phase focuses on identifying patterns, statistical analysis focuses on proving and quantifying those patterns."
      ],
      "metadata": {
        "id": "pIoYX8gL5xKn"
      }
    },
    {
      "cell_type": "markdown",
      "source": [
        "**Descriptive Statistics**\n",
        "---"
      ],
      "metadata": {
        "id": "jjLwI54h6hDU"
      }
    },
    {
      "cell_type": "markdown",
      "source": [
        "Used to describe or visualize data.\n",
        "Examples include mean, median, mode, standard deviation, and correlation (to understand how data is distributed and related).\n",
        "\n",
        "**Kurtosis**\n",
        "\n",
        "Kurtosis measures the \"tailedness\" or sharpness of a data distribution, comparing the tails (outliers) to the peak (center).\n",
        "\n",
        "* Mesokurtic: medium-tailed, moderate outliers, kurtosis = 3, excess = 0\n",
        "\n",
        "* Platykurtic: thin-tailed, few outliers, kurtosis < 3, excess negative\n",
        "\n",
        "* Leptokurtic: fat-tailed, many outliers, kurtosis > 3, excess positive\n",
        "\n",
        "![kurtosis.png](data:image/png;base64,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)\n",
        "\n",
        "\n",
        "**Impacts of high kurtosis or outliers:**\n",
        "\n",
        "* The model becomes sensitive to outliers.\n",
        "\n",
        "* Features may become unrepresentative (extreme values dominate).\n",
        "\n",
        "* The error distribution becomes non-normal.\n",
        "\n",
        "\n",
        "**When removing outliers can be good or bad:**\n",
        "\n",
        "**Good** (if outliers are true noise)\n",
        "\n",
        "* Distribution becomes more stable.\n",
        "\n",
        "* Normality assumptions are better met.\n",
        "\n",
        "* Model doesn’t overfit to extreme values.\n",
        "\n",
        "* Higher R², lower error, better generalization.\n",
        "\n",
        "**Bad** (if outliers are valid but rare)\n",
        "\n",
        "* Model loses real-world representation.\n",
        "\n",
        "* Predictions become biased.\n",
        "\n",
        "* Data becomes “too clean,” unlike real-world data.\n",
        "\n",
        "**Solutions:**\n",
        "\n",
        "* Winsorizing (Capping): Replace extreme values within a boundary.\n",
        "\n",
        "* Log / Box-Cox Transform: Reduce outlier effect without losing information."
      ],
      "metadata": {
        "id": "5Krz3HQJ6mtQ"
      }
    },
    {
      "cell_type": "markdown",
      "source": [
        "**Inferential Statistics**"
      ],
      "metadata": {
        "id": "hWhza-388ETY"
      }
    },
    {
      "cell_type": "markdown",
      "source": [
        "Used to test hypotheses and draw conclusions from data.\n",
        "\n",
        "**Includes:**\n",
        "\n",
        "* Hypothesis testing (t-test, ANOVA, chi-square)\n",
        "\n",
        "* Regression analysis\n",
        "\n",
        "* Confidence intervals (range of values that likely contain the true population parameter)\n",
        "\n",
        "**Key Concepts:**\n",
        "\n",
        "* Population: the entire dataset.\n",
        "\n",
        "* Sample: a subset of the population.\n",
        "\n",
        "* Parameter: the true value in the population.\n",
        "\n",
        "* Statistic: an estimate from the sample.\n",
        "\n",
        "**Probability Distributions:** show how data values are spread or the likelihood of occurrence.\n",
        "\n",
        "* Discrete distributions: specific values (usually integers).\n",
        "\n",
        "* Continuous distributions: values can take any real number.\n",
        "\n",
        "**Common distributions:**\n",
        "\n",
        "* Normal (Gaussian): mean = median = mode\n",
        "\n",
        "* Uniform: all values have equal probability\n",
        "\n",
        "* Exponential: models waiting time, heavily right-skewed\n",
        "\n",
        "* Poisson: discrete, counts number of occurrences\n",
        "\n",
        "* Binomial: repeated success/failure events\n",
        "\n",
        "Probability distributions are useful for selecting the right predictive model and appropriate statistical tests."
      ],
      "metadata": {
        "id": "VnjMSPZ28Kcl"
      }
    },
    {
      "cell_type": "markdown",
      "source": [
        "**Common Statistical Tests**"
      ],
      "metadata": {
        "id": "yCSLobru-tIs"
      }
    },
    {
      "cell_type": "markdown",
      "source": [
        "* One-sample t-test: compare sample mean to a specific value.\n",
        "* Independent t-test: compare two independent groups.\n",
        "* ANOVA: compare more than two groups.\n",
        "* Chi-square test: compare proportions or categorical variables.\n",
        "* Pearson / Spearman correlation: check relationships between numeric variables.\n",
        "* Shapiro-Wilk / Kolmogorov-Smirnov: test for normality.\n",
        "* Levene’s test: check variance homogeneity (usually before MANOVA)."
      ],
      "metadata": {
        "id": "7tHnf3t9-xQW"
      }
    },
    {
      "cell_type": "markdown",
      "source": [
        "**Regression Statistic**\n",
        "---"
      ],
      "metadata": {
        "id": "Z5Uegd2HAgFX"
      }
    },
    {
      "cell_type": "markdown",
      "source": [
        "Regression is a statistical technique used to study the relationship between an independent variable (X) and a dependent variable (Y).\n",
        "\n",
        "**Objectives:**\n",
        "* Prediction: Estimate the value of Y based on X.\n",
        "\n",
        "* Relationship estimation: Determine the strength and direction of X’s effect on Y.\n",
        "\n",
        "* Inference: Test hypotheses about the relationship between variables.\n",
        "\n",
        "\n",
        "**Components of Regression**\n",
        "\n",
        "* Dependent variable (target): The outcome being predicted.\n",
        "* Independent variable (predictor): The factor(s) used to predict Y.\n",
        "* Intercept: The predicted value of Y when X = 0.\n",
        "* Coefficient: The amount Y changes when X increases by 1 unit.\n",
        "* Error term: The difference between actual and predicted values."
      ],
      "metadata": {
        "id": "oibDDtR-Ajpl"
      }
    },
    {
      "cell_type": "markdown",
      "source": [
        "**Regression Assumptions**"
      ],
      "metadata": {
        "id": "u6n-Q13pAnp0"
      }
    },
    {
      "cell_type": "markdown",
      "source": [
        "To ensure valid results, regression models rely on several key assumptions:\n",
        "* Linearity: The relationship between X and Y must be linear.\n",
        "* Independence of errors: Observations (residuals) are independent of each other.\n",
        "* Homoscedasticity: Error variance remains constant across X values.\n",
        "* Normality of errors: Residuals should follow a normal distribution.\n",
        "* No multicollinearity: Independent variables should not be highly correlated."
      ],
      "metadata": {
        "id": "QahlQ5zXBQ2r"
      }
    },
    {
      "cell_type": "markdown",
      "source": [
        "**Regression Evaluation Metrics**"
      ],
      "metadata": {
        "id": "FkU00BjoBX-G"
      }
    },
    {
      "cell_type": "markdown",
      "source": [
        "Used to measure how well the model fits and predicts data:\n",
        "* R-squared (R²): Indicates how well the model explains variance in the data.\n",
        "* Adjusted R-squared: Adjusted version of R² that accounts for the number of predictors.\n",
        "* RMSE (Root Mean Squared Error): Measures how far predictions deviate from actual values.\n",
        "* MAE (Mean Absolute Error): Average absolute difference between predictions and actual data."
      ],
      "metadata": {
        "id": "D3Sy2hPQBcFO"
      }
    },
    {
      "cell_type": "markdown",
      "source": [
        "**Multivariate Analysis**\n",
        "---"
      ],
      "metadata": {
        "id": "CnUfbqPKCMp0"
      }
    },
    {
      "cell_type": "markdown",
      "source": [
        "Multivariate analysis involves analyzing more than two variables simultaneously.\n",
        "\n",
        "For example: analyzing what factors affect house prices (Y) with several independent variables :\n",
        "\n",
        "`X₁ = building area`,\n",
        "\n",
        " `X₂ = number of rooms`,\n",
        "\n",
        " `X₃ = location`,\n",
        "\n",
        " `X₄ = year built`"
      ],
      "metadata": {
        "id": "7JDbi3RNCRYJ"
      }
    },
    {
      "cell_type": "markdown",
      "source": [
        "**Objectives**\n",
        "* Identify relationships between multiple variables.\n",
        "* Reduce data dimensionality (simplify complex datasets).\n",
        "* Group similar objects or observations.\n",
        "* Predict Y values using multiple input variables."
      ],
      "metadata": {
        "id": "ONDAQO9uCfla"
      }
    },
    {
      "cell_type": "markdown",
      "source": [
        "**Types of Multivariate Analysis**"
      ],
      "metadata": {
        "id": "3XM34LlvCwSF"
      }
    },
    {
      "cell_type": "markdown",
      "source": [
        "**1. Dependence Methods (have a target variable)**\n",
        "* Multiple Linear Regression: predict continuous Y from multiple X variables.\n",
        "* Multivariate Regression: predict multiple Y values from multiple X variables.\n",
        "* Logistic Regression: predict categorical Y.\n",
        "* MANOVA (Multivariate ANOVA): compare several groups across multiple dependent variables.\n",
        "* Discriminant Analysis: classify data using linear functions of multiple X variables.\n",
        "\n",
        "**2. Independence Methods (no target variable, focus on patterns and relationships)**\n",
        "* Principal Component Analysis (PCA): extract main features and reduce dimensionality.\n",
        "* Factor Analysis: identify hidden (latent) factors behind observed variables.\n",
        "* Cluster Analysis: group similar observations based on their characteristics.\n",
        "* Correspondence Analysis: visualize relationships between categorical variables.\n",
        "* Canonical Correlation Analysis (CCA): find correlations between two sets of variables."
      ],
      "metadata": {
        "id": "V_5LcYUECyOF"
      }
    },
    {
      "cell_type": "markdown",
      "source": [
        "**Key Multivariate Techniques**\n",
        "\n",
        "**PCA (Principal Component Analysis)**\n",
        "\n",
        "PCA simplifies high-dimensional data while retaining the most important information.\n",
        "\n",
        "Imagine you have a 3D photo (x, y, z) — PCA “projects” that 3D photo onto a 2D plane without distorting its main shape.\n",
        "You lose some minor details but keep the essential patterns.\n",
        "\n",
        "Uses eigenvectors (directions of principal components) and eigenvalues (variance explained by each component)."
      ],
      "metadata": {
        "id": "hHGnVKZQDIWx"
      }
    },
    {
      "cell_type": "markdown",
      "source": [
        "**CCA (Canonical Correlation Analysis)**\n",
        "\n",
        "CCA finds linear relationships between two sets of variables.\n",
        "\n",
        "Example:\n",
        "* Set X (Economic): income, inflation, unemployment.\n",
        "* Set Y (Social): education, life expectancy, life satisfaction.\n",
        "\n",
        "CCA determines how strongly these two sets are correlated."
      ],
      "metadata": {
        "id": "DOjZIP_9DT8y"
      }
    },
    {
      "cell_type": "markdown",
      "source": [
        "**LDA (Linear Discriminant Analysis)**\n",
        "\n",
        "Separates data into classes while retaining as much variance as possible — often used for classification tasks and dimensionality reduction."
      ],
      "metadata": {
        "id": "JsIw0mFXDZq9"
      }
    },
    {
      "cell_type": "markdown",
      "source": [
        "**QDA (Quadratic Discriminant Analysis)**\n",
        "\n",
        "Similar to LDA but allows more complex (nonlinear) class boundaries, suitable for datasets where classes are not linearly separable."
      ],
      "metadata": {
        "id": "x21sNthqDdSf"
      }
    }
  ]
}